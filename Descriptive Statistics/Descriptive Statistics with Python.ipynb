{
 "cells": [
  {
   "cell_type": "markdown",
   "metadata": {},
   "source": [
    "# Descriptive Statistics with Python\n"
   ]
  },
  {
   "cell_type": "markdown",
   "metadata": {},
   "source": [
    "#### Measures of Central tendency\n",
    "#### Measures of Dispersion"
   ]
  },
  {
   "cell_type": "markdown",
   "metadata": {},
   "source": [
    "## Table of Contents\n"
   ]
  },
  {
   "cell_type": "markdown",
   "metadata": {},
   "source": [
    "```py\n",
    "list1 = [20, 35, 30]\n",
    "list2 = [10 25,55]\n",
    "list3 = [5, 10, 75]\n",
    "```"
   ]
  },
  {
   "cell_type": "markdown",
   "metadata": {},
   "source": [
    "### 1. Measures of central tendency \n",
    "Is a single value that represent the center point of a dataset. This value can also be referred to as `the central location` of a dataset.\n",
    "\n",
    "#### Mean \n",
    "- The mean represent the average value of the dataset.\n",
    "- The most common measure of central tendency is the mean.\n",
    "- The mean can be used for both continuous and discrete numeric data.\n",
    "##### When to use Mean?\n",
    "- When the distribution of data is symmertrical and there are no outliers.\n",
    "- Distribution is Symmetrical\n",
    "\n",
    "**Symmertrical**\n",
    "<img src=\"Photos/Symmertrical Distribution.png.\" alt=\"Control Structure\" width=\"70%\" style=\"display: block; margin: 0 auto;\">\n",
    "\n",
    "[Details](https://www.abs.gov.au/statistics/understanding-statistics/statistical-terms-and-concepts/measures-central-tendency#:~:text=There%20are%20three%20main%20measures,central%20value%20in%20the%20distribution.)\n",
    "##### Limitations of the mean\n",
    "\n",
    "    The mean cannot be calculated for `categorical data`, as the values cannot be summed.\n",
    "\n",
    "    As the mean includes every value in the distribution the mean is influenced by outliers and skewed distributions.\n",
    "\n",
    "#### Median \n",
    "- Median is the number which divides the dataset into two equal halves.\n",
    "##### When to use Median?\n",
    "- The median is less affected by outliers and **skewed** data than the mean and is usually the preferred measure of central tendency when the distribution is not symmetrical. \n",
    "\n",
    "**Skewed Distribution**\n",
    "\n",
    "<img src=\"Photos/Skewed distribution.png\" alt=\"Control Structure\" width=\"75%\" style=\"display: block; margin: 0 auto;\">\n",
    "\n",
    "##### Limitation of the median\n",
    "The median cannot be identified for categorical nominal data, as it cannot be logically ordered.\n",
    "\n",
    "\n",
    "#### Mode \n",
    "The mode is the most coommly occurring value in a distribution.\n",
    "###### Advantage of the mode\n",
    "The mode has an advantage over the median and the mean as it can be found for both numerical and categorical (non-numerical) data.\n"
   ]
  },
  {
   "cell_type": "markdown",
   "metadata": {},
   "source": [
    "### 2. Measures Of Dispersion\n",
    "let we describe the spread of our dataset, or the amount of variation in your data values. \n",
    "\n",
    "```py\n",
    "list1 = [20, 35, 30]\n",
    "list2 = [10 25,55]\n",
    "list3 = [5, 10, 75]\n",
    "```"
   ]
  },
  {
   "cell_type": "markdown",
   "metadata": {},
   "source": [
    "#### Range\n",
    "The **range** is the difference between the largest and smallest value in a dataset. \n",
    "\n",
    "#### Variance \n",
    "The average of the spuared difference of each data point from the mean.\n",
    "#### Standard Deviation\n",
    "Measures how spread out your values are from the mean of your dataset.\n",
    "\n",
    "    - Low, or small, standard deviation indicates data are clustered tightly around the mean, and high, or large, standard deviation indicates data are more spread out.\n",
    "<img src=\"Photos/photo_2023-11-11_10-46-48.jpg\" alt=\"Control Structure\" width=\"75%\" style=\"display: block; margin: 0 auto;\">"
   ]
  },
  {
   "cell_type": "markdown",
   "metadata": {},
   "source": [
    "**Exercise:** \n",
    "```py\n",
    "data = [56, 65, 74, 75, 76, 77, 80, 81, 91]\n",
    "```\n",
    "- Find Mean \n",
    "- Find Sum of Square (x-mean of population)\n",
    "- Find Population"
   ]
  },
  {
   "cell_type": "markdown",
   "metadata": {},
   "source": [
    "### 3. Measures of Position \n"
   ]
  },
  {
   "cell_type": "markdown",
   "metadata": {},
   "source": [
    "\n",
    "**Measures of Position**  let you determine the position of a value in relation to other values in a dataset.\n",
    "<img src=\"Photos/Three-Quartiles-Four-Quarters.png\" alt=\"Control Structure\" width=\"75%\" style=\"display: block; margin: 0 auto;\">"
   ]
  },
  {
   "cell_type": "markdown",
   "metadata": {},
   "source": [
    "#### Boxplot\n",
    "\n",
    "#### Using visualizations\n"
   ]
  },
  {
   "cell_type": "markdown",
   "metadata": {},
   "source": [
    "<img src=\"Photos/Box-Plot-and-Whisker-Plot-1.png\" alt=\"Control Structure\" width=\"75%\" style=\"display: block; margin: 0 auto;\">\n",
    "\n",
    "[Deials](https://www.scribbr.com/statistics/outliers/)"
   ]
  },
  {
   "cell_type": "markdown",
   "metadata": {},
   "source": [
    "### Outlier\n",
    "Outliers are values at the extreme ends of a dataset.\n",
    "\n",
    "Some outliers represent true values from natural variation in the population. Other outliers may result from incorrect data entry, equipment malfunctions, or other measurement errors.\n",
    "\n"
   ]
  },
  {
   "cell_type": "code",
   "execution_count": 1,
   "metadata": {},
   "outputs": [],
   "source": [
    "def outlier_detection(df):\n",
    "    \"\"\"\n",
    "    Detect potential outliers in a DataFrame using the Interquartile Range (IQR) method.\n",
    "\n",
    "    Parameters:\n",
    "    - df (pandas.DataFrame): The input DataFrame containing numerical data.\n",
    "\n",
    "    Returns:\n",
    "    - pandas.Series: A Series containing potential outlier values.\n",
    "    \n",
    "    The function calculates the first quartile (Q1), third quartile (Q3), and the Interquartile Range (IQR).\n",
    "    It then identifies potential outliers below the lower bound (Q1 - 1.5 * IQR) or above the upper bound (Q3 + 1.5 * IQR).\n",
    "    The result is a Series containing the values in the DataFrame that are potential outliers.\n",
    "\n",
    "    Example:\n",
    "    >>> data = {'Column1': [2, 4, 5, 7, 8, 9, 10, 11, 12, 50]}\n",
    "    >>> df = pd.DataFrame(data)\n",
    "    >>> outlier_detection(df['Column1'])\n",
    "    Returns:\n",
    "    9    50\n",
    "    Name: Column1, dtype: int64\n",
    "    \"\"\"\n",
    "    Q1 = df.quantile(0.25)\n",
    "    Q3 = df.quantile(0.75)\n",
    "    IQR = Q3 - Q1\n",
    "    upper_end = Q3 + 1.5 * IQR\n",
    "    lower_end = Q1 - 1.5 * IQR\n",
    "    outliers = df[(df > upper_end) | (df < lower_end)]\n",
    "    return outliers\n"
   ]
  },
  {
   "cell_type": "code",
   "execution_count": 2,
   "metadata": {},
   "outputs": [],
   "source": [
    "def filter_by_substring(df, column_name, substring, case = True):\n",
    "    \"\"\"\n",
    "    Filter DataFrame rows based on a substring match in a specific column.\n",
    "\n",
    "    Parameters:\n",
    "    - df (pandas.DataFrame): The input DataFrame.\n",
    "    - column_name (str): The name of the column to check for the substring.\n",
    "    - substring (str): The substring to search for in the specified column.\n",
    "\n",
    "    Returns:\n",
    "    - pandas.DataFrame: A DataFrame containing rows where the specified substring is found in the specified column.\n",
    "    \"\"\"\n",
    "    return df[df[column_name].str.contains(substring, case=case)]"
   ]
  },
  {
   "cell_type": "code",
   "execution_count": 3,
   "metadata": {},
   "outputs": [],
   "source": [
    "def boxplot(data, column_name):\n",
    "    \"\"\"\n",
    "    Create a box plot for a specified column in a DataFrame.\n",
    "\n",
    "    Parameters:\n",
    "    - data (pandas.DataFrame): The input DataFrame.\n",
    "    - column_name (str): The name of the column for which to create the box plot.\n",
    "\n",
    "    Returns:\n",
    "    - None\n",
    "\n",
    "    This function uses Matplotlib and Seaborn to generate a box plot for the specified column.\n",
    "    \"\"\"\n",
    "    plt.figure(figsize=(8, 6))\n",
    "    sns.boxplot(x=data[column_name])\n",
    "\n",
    "    # Add labels and a title\n",
    "    plt.xlabel('Data')\n",
    "    plt.ylabel('Values')\n",
    "    plt.title(f'Box Plot for {column_name}')\n",
    "    plt.grid(True)\n",
    "    plt.show()"
   ]
  },
  {
   "cell_type": "code",
   "execution_count": 4,
   "metadata": {},
   "outputs": [],
   "source": [
    "def get_missing_features(data):\n",
    "    \"\"\"\n",
    "    Get the features (columns) in a DataFrame that have missing values.\n",
    "\n",
    "    Parameters:\n",
    "    - data (pandas.DataFrame): The input DataFrame.\n",
    "\n",
    "    Returns:\n",
    "    - list: A list of feature names with missing values.\n",
    "    \"\"\"\n",
    "    missing_features = data.columns[data.isnull().any()].tolist()\n",
    "    return missing_features"
   ]
  },
  {
   "cell_type": "code",
   "execution_count": 5,
   "metadata": {},
   "outputs": [],
   "source": [
    "def get_cat_features(df):\n",
    "    \"\"\"\n",
    "    Identify categorical features in a Pandas DataFrame.\n",
    "\n",
    "    Parameters:\n",
    "    - df (pd.DataFrame): The input DataFrame to analyze.\n",
    "\n",
    "    Returns:\n",
    "    - List[str]: A list of column names containing categorical features.\n",
    "\n",
    "    Example:\n",
    "    >>> import pandas as pd\n",
    "    >>> data = {'Name': ['Alice', 'Bob', 'Charlie'],\n",
    "    ...         'Age': [25, 30, 22],\n",
    "    ...         'Gender': ['Female', 'Male', 'Male']}\n",
    "    >>> df = pd.DataFrame(data)\n",
    "    >>> categorical_columns = check_cat_features(df)\n",
    "    >>> print(categorical_columns)\n",
    "    ['Name', 'Gender']\n",
    "    \"\"\"\n",
    "    cat_features = []\n",
    "    for col in df.columns:\n",
    "        if df[col].dtype == 'O':\n",
    "            cat_features.append(col)\n",
    "    return cat_features\n"
   ]
  },
  {
   "cell_type": "code",
   "execution_count": 6,
   "metadata": {},
   "outputs": [
    {
     "ename": "NameError",
     "evalue": "name 'df' is not defined",
     "output_type": "error",
     "traceback": [
      "\u001b[1;31m---------------------------------------------------------------------------\u001b[0m",
      "\u001b[1;31mNameError\u001b[0m                                 Traceback (most recent call last)",
      "Cell \u001b[1;32mIn[6], line 1\u001b[0m\n\u001b[1;32m----> 1\u001b[0m get_cat_features(\u001b[43mdf\u001b[49m)\n",
      "\u001b[1;31mNameError\u001b[0m: name 'df' is not defined"
     ]
    }
   ],
   "source": [
    "get_cat_features(df)"
   ]
  },
  {
   "cell_type": "code",
   "execution_count": null,
   "metadata": {},
   "outputs": [],
   "source": [
    "df"
   ]
  },
  {
   "cell_type": "code",
   "execution_count": 7,
   "metadata": {},
   "outputs": [],
   "source": [
    "def getnum_features(df, cat_features):\n",
    "    \"\"\"\n",
    "    Identify numerical features in a Pandas DataFrame by excluding categorical features.\n",
    "\n",
    "    Parameters:\n",
    "    - df (pd.DataFrame): The input DataFrame to analyze.\n",
    "    - cat_features (list): A list of column names containing categorical features.\n",
    "\n",
    "    Returns:\n",
    "    - List[str]: A list of column names containing numerical features.\n",
    "\n",
    "    Example:\n",
    "    >>> import pandas as pd\n",
    "    >>> data = {'Name': ['Alice', 'Bob', 'Charlie'],\n",
    "    ...         'Age': [25, 30, 22],\n",
    "    ...         'Gender': ['Female', 'Male', 'Male']}\n",
    "    >>> df = pd.DataFrame(data)\n",
    "    >>> cat_columns = ['Name', 'Gender']\n",
    "    >>> numerical_columns = get_num_features(df, cat_columns)\n",
    "    >>> print(numerical_columns)\n",
    "    ['Age']\n",
    "    \"\"\"\n",
    "    num_features = [col for col in df.columns if col not in cat_features]\n",
    "    return num_features\n"
   ]
  },
  {
   "cell_type": "markdown",
   "metadata": {},
   "source": [
    "### About dataset\n",
    "This dataset represents a list of school districts in an anonymous country. The data includes district and state names, total population, and the literacy rate.\n",
    "\n",
    "The dataset contains:\n",
    "\n",
    "680 rows – each row is a different school district\n",
    "\n",
    "| Column Name | Type   | Description                                                |\n",
    "|-------------|--------|------------------------------------------------------------|\n",
    "| DISTNAME    | str    | The names of an anonymous country’s school districts      |\n",
    "| STATNAME    | str    | The names of an anonymous country’s states                 |\n",
    "| BLOCKS      | int64  | The number of blocks in the school district. Blocks are the smallest organizational structure in the education system of the anonymous country.                |\n",
    "| VILLAGES    | int64  | The number of villages in each district                    |\n",
    "| CLUSTERS    | int64  | The number of clusters in the school district              |\n",
    "| TOTPOPULAT  | float64  | The population for each district                           |\n",
    "| OVERALL_LI  | float64  | The literacy rate for each district                        |"
   ]
  },
  {
   "cell_type": "code",
   "execution_count": 8,
   "metadata": {},
   "outputs": [],
   "source": [
    "import matplotlib.pyplot as plt\n",
    "import seaborn as sns\n",
    "import pandas as pd"
   ]
  },
  {
   "cell_type": "code",
   "execution_count": 9,
   "metadata": {},
   "outputs": [],
   "source": [
    "df = pd.read_csv('education_districtwise.csv')"
   ]
  },
  {
   "cell_type": "code",
   "execution_count": 10,
   "metadata": {},
   "outputs": [
    {
     "data": {
      "text/html": [
       "<div>\n",
       "<style scoped>\n",
       "    .dataframe tbody tr th:only-of-type {\n",
       "        vertical-align: middle;\n",
       "    }\n",
       "\n",
       "    .dataframe tbody tr th {\n",
       "        vertical-align: top;\n",
       "    }\n",
       "\n",
       "    .dataframe thead th {\n",
       "        text-align: right;\n",
       "    }\n",
       "</style>\n",
       "<table border=\"1\" class=\"dataframe\">\n",
       "  <thead>\n",
       "    <tr style=\"text-align: right;\">\n",
       "      <th></th>\n",
       "      <th>DISTNAME</th>\n",
       "      <th>STATNAME</th>\n",
       "      <th>BLOCKS</th>\n",
       "      <th>VILLAGES</th>\n",
       "      <th>CLUSTERS</th>\n",
       "      <th>TOTPOPULAT</th>\n",
       "      <th>OVERALL_LI</th>\n",
       "    </tr>\n",
       "  </thead>\n",
       "  <tbody>\n",
       "    <tr>\n",
       "      <th>0</th>\n",
       "      <td>DISTRICT32</td>\n",
       "      <td>STATE1</td>\n",
       "      <td>13</td>\n",
       "      <td>391</td>\n",
       "      <td>104</td>\n",
       "      <td>875564.0</td>\n",
       "      <td>66.92</td>\n",
       "    </tr>\n",
       "    <tr>\n",
       "      <th>1</th>\n",
       "      <td>DISTRICT649</td>\n",
       "      <td>STATE1</td>\n",
       "      <td>18</td>\n",
       "      <td>678</td>\n",
       "      <td>144</td>\n",
       "      <td>1015503.0</td>\n",
       "      <td>66.93</td>\n",
       "    </tr>\n",
       "    <tr>\n",
       "      <th>2</th>\n",
       "      <td>DISTRICT229</td>\n",
       "      <td>STATE1</td>\n",
       "      <td>8</td>\n",
       "      <td>94</td>\n",
       "      <td>65</td>\n",
       "      <td>1269751.0</td>\n",
       "      <td>71.21</td>\n",
       "    </tr>\n",
       "    <tr>\n",
       "      <th>3</th>\n",
       "      <td>DISTRICT259</td>\n",
       "      <td>STATE1</td>\n",
       "      <td>13</td>\n",
       "      <td>523</td>\n",
       "      <td>104</td>\n",
       "      <td>735753.0</td>\n",
       "      <td>57.98</td>\n",
       "    </tr>\n",
       "    <tr>\n",
       "      <th>4</th>\n",
       "      <td>DISTRICT486</td>\n",
       "      <td>STATE1</td>\n",
       "      <td>8</td>\n",
       "      <td>359</td>\n",
       "      <td>64</td>\n",
       "      <td>570060.0</td>\n",
       "      <td>65.00</td>\n",
       "    </tr>\n",
       "  </tbody>\n",
       "</table>\n",
       "</div>"
      ],
      "text/plain": [
       "      DISTNAME STATNAME  BLOCKS  VILLAGES  CLUSTERS  TOTPOPULAT  OVERALL_LI\n",
       "0   DISTRICT32   STATE1      13       391       104    875564.0       66.92\n",
       "1  DISTRICT649   STATE1      18       678       144   1015503.0       66.93\n",
       "2  DISTRICT229   STATE1       8        94        65   1269751.0       71.21\n",
       "3  DISTRICT259   STATE1      13       523       104    735753.0       57.98\n",
       "4  DISTRICT486   STATE1       8       359        64    570060.0       65.00"
      ]
     },
     "execution_count": 10,
     "metadata": {},
     "output_type": "execute_result"
    }
   ],
   "source": [
    "df.head()"
   ]
  },
  {
   "cell_type": "code",
   "execution_count": 11,
   "metadata": {},
   "outputs": [],
   "source": [
    "import Data_cleaning as clean"
   ]
  },
  {
   "cell_type": "code",
   "execution_count": 12,
   "metadata": {},
   "outputs": [
    {
     "data": {
      "text/plain": [
       "156    2603\n",
       "193    2618\n",
       "350    3142\n",
       "352    3175\n",
       "354    3042\n",
       "360    3803\n",
       "361    3963\n",
       "362    3430\n",
       "370    2573\n",
       "395    3238\n",
       "407    2460\n",
       "Name: VILLAGES, dtype: int64"
      ]
     },
     "execution_count": 12,
     "metadata": {},
     "output_type": "execute_result"
    }
   ],
   "source": [
    "clean.outlier_detection(df.VILLAGES)"
   ]
  },
  {
   "cell_type": "code",
   "execution_count": 13,
   "metadata": {},
   "outputs": [
    {
     "data": {
      "text/plain": [
       "Index(['DISTNAME', 'STATNAME', 'BLOCKS', 'VILLAGES', 'CLUSTERS', 'TOTPOPULAT',\n",
       "       'OVERALL_LI'],\n",
       "      dtype='object')"
      ]
     },
     "execution_count": 13,
     "metadata": {},
     "output_type": "execute_result"
    }
   ],
   "source": [
    "df.columns"
   ]
  },
  {
   "cell_type": "code",
   "execution_count": 14,
   "metadata": {},
   "outputs": [
    {
     "data": {
      "image/png": "[encoded data removed]",
      "text/plain": [
       "<Figure size 800x600 with 1 Axes>"
      ]
     },
     "metadata": {},
     "output_type": "display_data"
    }
   ],
   "source": [
    "boxplot(df, 'VILLAGES')"
   ]
  },
  {
   "cell_type": "code",
   "execution_count": 15,
   "metadata": {},
   "outputs": [],
   "source": [
    "import seaborn as sns\n"
   ]
  },
  {
   "cell_type": "code",
   "execution_count": 20,
   "metadata": {},
   "outputs": [
    {
     "data": {
      "text/plain": [
       "count     680.000000\n",
       "mean      874.614706\n",
       "std       622.711657\n",
       "min         6.000000\n",
       "25%       390.750000\n",
       "50%       785.500000\n",
       "75%      1204.250000\n",
       "max      3963.000000\n",
       "Name: VILLAGES, dtype: float64"
      ]
     },
     "execution_count": 20,
     "metadata": {},
     "output_type": "execute_result"
    }
   ],
   "source": [
    "df['VILLAGES'].describe()"
   ]
  },
  {
   "cell_type": "code",
   "execution_count": 26,
   "metadata": {},
   "outputs": [
    {
     "data": {
      "image/png": "[encoded data removed]",
      "text/plain": [
       "<Figure size 500x400 with 1 Axes>"
      ]
     },
     "metadata": {},
     "output_type": "display_data"
    }
   ],
   "source": [
    "fig, ax = plt.subplots(figsize = (5, 4))\n",
    "sns.boxplot(data = df,y = df['VILLAGES'] )\n",
    "# plt.yscale('log')\n",
    "plt.grid()\n",
    "plt.show()"
   ]
  },
  {
   "cell_type": "code",
   "execution_count": 33,
   "metadata": {},
   "outputs": [],
   "source": [
    "brankA = [10, 60, 50, 30, 40, 20]\n",
    "brankB = [35, 45, 30, 35,40, 25]"
   ]
  },
  {
   "cell_type": "code",
   "execution_count": 34,
   "metadata": {},
   "outputs": [
    {
     "data": {
      "text/html": [
       "<div>\n",
       "<style scoped>\n",
       "    .dataframe tbody tr th:only-of-type {\n",
       "        vertical-align: middle;\n",
       "    }\n",
       "\n",
       "    .dataframe tbody tr th {\n",
       "        vertical-align: top;\n",
       "    }\n",
       "\n",
       "    .dataframe thead th {\n",
       "        text-align: right;\n",
       "    }\n",
       "</style>\n",
       "<table border=\"1\" class=\"dataframe\">\n",
       "  <thead>\n",
       "    <tr style=\"text-align: right;\">\n",
       "      <th></th>\n",
       "      <th>brankA</th>\n",
       "      <th>brankB</th>\n",
       "    </tr>\n",
       "  </thead>\n",
       "  <tbody>\n",
       "    <tr>\n",
       "      <th>0</th>\n",
       "      <td>10</td>\n",
       "      <td>35</td>\n",
       "    </tr>\n",
       "    <tr>\n",
       "      <th>1</th>\n",
       "      <td>60</td>\n",
       "      <td>45</td>\n",
       "    </tr>\n",
       "    <tr>\n",
       "      <th>2</th>\n",
       "      <td>50</td>\n",
       "      <td>30</td>\n",
       "    </tr>\n",
       "    <tr>\n",
       "      <th>3</th>\n",
       "      <td>30</td>\n",
       "      <td>35</td>\n",
       "    </tr>\n",
       "    <tr>\n",
       "      <th>4</th>\n",
       "      <td>40</td>\n",
       "      <td>40</td>\n",
       "    </tr>\n",
       "    <tr>\n",
       "      <th>5</th>\n",
       "      <td>20</td>\n",
       "      <td>25</td>\n",
       "    </tr>\n",
       "  </tbody>\n",
       "</table>\n",
       "</div>"
      ],
      "text/plain": [
       "   brankA  brankB\n",
       "0      10      35\n",
       "1      60      45\n",
       "2      50      30\n",
       "3      30      35\n",
       "4      40      40\n",
       "5      20      25"
      ]
     },
     "execution_count": 34,
     "metadata": {},
     "output_type": "execute_result"
    }
   ],
   "source": [
    "df = pd.DataFrame({'brankA':brankA,\n",
    "     'brankB':brankB})\n",
    "df"
   ]
  },
  {
   "cell_type": "code",
   "execution_count": 35,
   "metadata": {},
   "outputs": [
    {
     "data": {
      "text/plain": [
       "35.0"
      ]
     },
     "execution_count": 35,
     "metadata": {},
     "output_type": "execute_result"
    }
   ],
   "source": [
    "df['brankA'].mean()"
   ]
  },
  {
   "cell_type": "code",
   "execution_count": 36,
   "metadata": {},
   "outputs": [
    {
     "data": {
      "text/plain": [
       "35.0"
      ]
     },
     "execution_count": 36,
     "metadata": {},
     "output_type": "execute_result"
    }
   ],
   "source": [
    "df['brankB'].mean()"
   ]
  },
  {
   "cell_type": "code",
   "execution_count": 45,
   "metadata": {},
   "outputs": [],
   "source": [
    "df['brankA-Mean'] = (df['brankA']-df['brankA'].mean())**2"
   ]
  },
  {
   "cell_type": "code",
   "execution_count": 46,
   "metadata": {},
   "outputs": [
    {
     "data": {
      "text/html": [
       "<div>\n",
       "<style scoped>\n",
       "    .dataframe tbody tr th:only-of-type {\n",
       "        vertical-align: middle;\n",
       "    }\n",
       "\n",
       "    .dataframe tbody tr th {\n",
       "        vertical-align: top;\n",
       "    }\n",
       "\n",
       "    .dataframe thead th {\n",
       "        text-align: right;\n",
       "    }\n",
       "</style>\n",
       "<table border=\"1\" class=\"dataframe\">\n",
       "  <thead>\n",
       "    <tr style=\"text-align: right;\">\n",
       "      <th></th>\n",
       "      <th>brankA</th>\n",
       "      <th>brankB</th>\n",
       "      <th>brankA-Mean</th>\n",
       "    </tr>\n",
       "  </thead>\n",
       "  <tbody>\n",
       "    <tr>\n",
       "      <th>0</th>\n",
       "      <td>10</td>\n",
       "      <td>35</td>\n",
       "      <td>625.0</td>\n",
       "    </tr>\n",
       "    <tr>\n",
       "      <th>1</th>\n",
       "      <td>60</td>\n",
       "      <td>45</td>\n",
       "      <td>625.0</td>\n",
       "    </tr>\n",
       "    <tr>\n",
       "      <th>2</th>\n",
       "      <td>50</td>\n",
       "      <td>30</td>\n",
       "      <td>225.0</td>\n",
       "    </tr>\n",
       "    <tr>\n",
       "      <th>3</th>\n",
       "      <td>30</td>\n",
       "      <td>35</td>\n",
       "      <td>25.0</td>\n",
       "    </tr>\n",
       "    <tr>\n",
       "      <th>4</th>\n",
       "      <td>40</td>\n",
       "      <td>40</td>\n",
       "      <td>25.0</td>\n",
       "    </tr>\n",
       "    <tr>\n",
       "      <th>5</th>\n",
       "      <td>20</td>\n",
       "      <td>25</td>\n",
       "      <td>225.0</td>\n",
       "    </tr>\n",
       "  </tbody>\n",
       "</table>\n",
       "</div>"
      ],
      "text/plain": [
       "   brankA  brankB  brankA-Mean\n",
       "0      10      35        625.0\n",
       "1      60      45        625.0\n",
       "2      50      30        225.0\n",
       "3      30      35         25.0\n",
       "4      40      40         25.0\n",
       "5      20      25        225.0"
      ]
     },
     "execution_count": 46,
     "metadata": {},
     "output_type": "execute_result"
    }
   ],
   "source": [
    "df"
   ]
  },
  {
   "cell_type": "code",
   "execution_count": 63,
   "metadata": {},
   "outputs": [
    {
     "data": {
      "text/plain": [
       "17.07825127659933"
      ]
     },
     "execution_count": 63,
     "metadata": {},
     "output_type": "execute_result"
    }
   ],
   "source": [
    "(sum(df['brankA-Mean'])/6)**(1/2)"
   ]
  },
  {
   "cell_type": "code",
   "execution_count": 61,
   "metadata": {},
   "outputs": [
    {
     "data": {
      "text/plain": [
       "17.07825127659933"
      ]
     },
     "execution_count": 61,
     "metadata": {},
     "output_type": "execute_result"
    }
   ],
   "source": [
    "df['brankA'].std(ddof = 0)"
   ]
  },
  {
   "cell_type": "code",
   "execution_count": 62,
   "metadata": {},
   "outputs": [
    {
     "data": {
      "text/html": [
       "<div>\n",
       "<style scoped>\n",
       "    .dataframe tbody tr th:only-of-type {\n",
       "        vertical-align: middle;\n",
       "    }\n",
       "\n",
       "    .dataframe tbody tr th {\n",
       "        vertical-align: top;\n",
       "    }\n",
       "\n",
       "    .dataframe thead th {\n",
       "        text-align: right;\n",
       "    }\n",
       "</style>\n",
       "<table border=\"1\" class=\"dataframe\">\n",
       "  <thead>\n",
       "    <tr style=\"text-align: right;\">\n",
       "      <th></th>\n",
       "      <th>brankA</th>\n",
       "      <th>brankB</th>\n",
       "      <th>brankA-Mean</th>\n",
       "    </tr>\n",
       "  </thead>\n",
       "  <tbody>\n",
       "    <tr>\n",
       "      <th>count</th>\n",
       "      <td>6.000000</td>\n",
       "      <td>6.000000</td>\n",
       "      <td>6.000000</td>\n",
       "    </tr>\n",
       "    <tr>\n",
       "      <th>mean</th>\n",
       "      <td>35.000000</td>\n",
       "      <td>35.000000</td>\n",
       "      <td>291.666667</td>\n",
       "    </tr>\n",
       "    <tr>\n",
       "      <th>std</th>\n",
       "      <td>18.708287</td>\n",
       "      <td>7.071068</td>\n",
       "      <td>273.252020</td>\n",
       "    </tr>\n",
       "    <tr>\n",
       "      <th>min</th>\n",
       "      <td>10.000000</td>\n",
       "      <td>25.000000</td>\n",
       "      <td>25.000000</td>\n",
       "    </tr>\n",
       "    <tr>\n",
       "      <th>25%</th>\n",
       "      <td>22.500000</td>\n",
       "      <td>31.250000</td>\n",
       "      <td>75.000000</td>\n",
       "    </tr>\n",
       "    <tr>\n",
       "      <th>50%</th>\n",
       "      <td>35.000000</td>\n",
       "      <td>35.000000</td>\n",
       "      <td>225.000000</td>\n",
       "    </tr>\n",
       "    <tr>\n",
       "      <th>75%</th>\n",
       "      <td>47.500000</td>\n",
       "      <td>38.750000</td>\n",
       "      <td>525.000000</td>\n",
       "    </tr>\n",
       "    <tr>\n",
       "      <th>max</th>\n",
       "      <td>60.000000</td>\n",
       "      <td>45.000000</td>\n",
       "      <td>625.000000</td>\n",
       "    </tr>\n",
       "  </tbody>\n",
       "</table>\n",
       "</div>"
      ],
      "text/plain": [
       "          brankA     brankB  brankA-Mean\n",
       "count   6.000000   6.000000     6.000000\n",
       "mean   35.000000  35.000000   291.666667\n",
       "std    18.708287   7.071068   273.252020\n",
       "min    10.000000  25.000000    25.000000\n",
       "25%    22.500000  31.250000    75.000000\n",
       "50%    35.000000  35.000000   225.000000\n",
       "75%    47.500000  38.750000   525.000000\n",
       "max    60.000000  45.000000   625.000000"
      ]
     },
     "execution_count": 62,
     "metadata": {},
     "output_type": "execute_result"
    }
   ],
   "source": [
    "df.describe()"
   ]
  },
  {
   "cell_type": "code",
   "execution_count": null,
   "metadata": {},
   "outputs": [],
   "source": [
    "df.dtypes"
   ]
  },
  {
   "cell_type": "code",
   "execution_count": null,
   "metadata": {},
   "outputs": [],
   "source": [
    "df.isnull().sum()"
   ]
  },
  {
   "cell_type": "code",
   "execution_count": null,
   "metadata": {},
   "outputs": [],
   "source": [
    "df.shape"
   ]
  },
  {
   "cell_type": "code",
   "execution_count": null,
   "metadata": {},
   "outputs": [],
   "source": [
    "df.columns"
   ]
  },
  {
   "cell_type": "markdown",
   "metadata": {},
   "source": [
    "#### Missing_value"
   ]
  },
  {
   "cell_type": "code",
   "execution_count": null,
   "metadata": {},
   "outputs": [],
   "source": [
    "get_missing_features(df)"
   ]
  },
  {
   "cell_type": "code",
   "execution_count": null,
   "metadata": {},
   "outputs": [],
   "source": [
    "df[df[['TOTPOPULAT','OVERALL_LI']].isnull().any(axis = 1)]"
   ]
  },
  {
   "cell_type": "code",
   "execution_count": null,
   "metadata": {},
   "outputs": [],
   "source": [
    "df.drop(columns=)"
   ]
  },
  {
   "cell_type": "code",
   "execution_count": null,
   "metadata": {},
   "outputs": [],
   "source": [
    "df.dropna(inplace=True)"
   ]
  },
  {
   "cell_type": "code",
   "execution_count": null,
   "metadata": {},
   "outputs": [],
   "source": [
    "df"
   ]
  },
  {
   "cell_type": "markdown",
   "metadata": {},
   "source": [
    "## Duplicated"
   ]
  },
  {
   "cell_type": "code",
   "execution_count": null,
   "metadata": {},
   "outputs": [],
   "source": [
    "df.duplicated().sum()"
   ]
  },
  {
   "cell_type": "markdown",
   "metadata": {},
   "source": [
    "## Outlier"
   ]
  },
  {
   "cell_type": "markdown",
   "metadata": {},
   "source": [
    "### About dataset\n",
    "This dataset represents a list of school districts in an anonymous country. The data includes district and state names, total population, and the literacy rate.\n",
    "\n",
    "The dataset contains:\n",
    "\n",
    "680 rows – each row is a different school district\n",
    "\n",
    "| Column Name | Type   | Description                                                |\n",
    "|-------------|--------|------------------------------------------------------------|\n",
    "| DISTNAME    | str    | The names of an anonymous country’s school districts      |\n",
    "| STATNAME    | str    | The names of an anonymous country’s states                 |\n",
    "| BLOCKS      | int64  | The number of blocks in the school district. Blocks are the smallest organizational structure in the education system of the anonymous country.                |\n",
    "| VILLAGES    | int64  | The number of villages in each district                    |\n",
    "| CLUSTERS    | int64  | The number of clusters in the school district              |\n",
    "| TOTPOPULAT  | float64  | The population for each district                           |\n",
    "| OVERALL_LI  | float64  | The literacy rate for each district                        |"
   ]
  },
  {
   "cell_type": "code",
   "execution_count": null,
   "metadata": {},
   "outputs": [],
   "source": [
    "df.describe()"
   ]
  },
  {
   "cell_type": "code",
   "execution_count": null,
   "metadata": {},
   "outputs": [],
   "source": [
    "df[df['BLOCKS']>=20]"
   ]
  },
  {
   "cell_type": "code",
   "execution_count": null,
   "metadata": {},
   "outputs": [],
   "source": [
    "df['BLOCKS'].value_counts()"
   ]
  },
  {
   "cell_type": "code",
   "execution_count": null,
   "metadata": {},
   "outputs": [],
   "source": [
    "outlier_detection"
   ]
  },
  {
   "cell_type": "code",
   "execution_count": null,
   "metadata": {},
   "outputs": [],
   "source": [
    "block_outlier = outlier_detection(df.BLOCKS)"
   ]
  },
  {
   "cell_type": "code",
   "execution_count": null,
   "metadata": {},
   "outputs": [],
   "source": [
    "block_outlier.index"
   ]
  },
  {
   "cell_type": "code",
   "execution_count": null,
   "metadata": {},
   "outputs": [],
   "source": [
    "df.drop(index=block_outlier.index, inplace=True)"
   ]
  },
  {
   "cell_type": "code",
   "execution_count": null,
   "metadata": {},
   "outputs": [],
   "source": [
    "clean.outlier_detection(df.BLOCKS)"
   ]
  },
  {
   "cell_type": "code",
   "execution_count": null,
   "metadata": {},
   "outputs": [],
   "source": [
    "clean.outlier_detection(df.VILLAGES)"
   ]
  },
  {
   "cell_type": "code",
   "execution_count": null,
   "metadata": {},
   "outputs": [],
   "source": [
    "df['VILLAGES'].describe()"
   ]
  },
  {
   "cell_type": "code",
   "execution_count": null,
   "metadata": {},
   "outputs": [],
   "source": [
    "df['VILLAGES'].sort_values(ascending= False).head(20)"
   ]
  },
  {
   "cell_type": "code",
   "execution_count": null,
   "metadata": {},
   "outputs": [],
   "source": [
    "df.loc[block_outlier.index]"
   ]
  },
  {
   "cell_type": "code",
   "execution_count": null,
   "metadata": {},
   "outputs": [],
   "source": [
    "clean.outlier_detection(df.CLUSTERS)"
   ]
  },
  {
   "cell_type": "code",
   "execution_count": null,
   "metadata": {},
   "outputs": [],
   "source": [
    "df['CLUSTERS'].describe()"
   ]
  },
  {
   "cell_type": "code",
   "execution_count": null,
   "metadata": {},
   "outputs": [],
   "source": []
  }
 ],
 "metadata": {
  "kernelspec": {
   "display_name": "Python 3 (ipykernel)",
   "language": "python",
   "name": "python3"
  },
  "language_info": {
   "codemirror_mode": {
    "name": "ipython",
    "version": 3
   },
   "file_extension": ".py",
   "mimetype": "text/x-python",
   "name": "python",
   "nbconvert_exporter": "python",
   "pygments_lexer": "ipython3",
   "version": "3.10.9"
  }
 },
 "nbformat": 4,
 "nbformat_minor": 2
}
